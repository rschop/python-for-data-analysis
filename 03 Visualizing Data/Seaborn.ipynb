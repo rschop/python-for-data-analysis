{
 "cells": [
  {
   "cell_type": "markdown",
   "metadata": {},
   "source": [
    "## Seaborn for Data Analysis ##\n",
    "[Seaborn Documentation](https://seaborn.pydata.org/)\n",
    "\n",
    "[Seaborn Built In Data Sets](https://github.com/mwaskom/seaborn-data)"
   ]
  },
  {
   "cell_type": "code",
   "execution_count": null,
   "metadata": {},
   "outputs": [],
   "source": [
    "import numpy as np\n",
    "import pandas as pd\n",
    "import matplotlib.pyplot as plt\n",
    "import seaborn as sns\n",
    "print(sns)"
   ]
  },
  {
   "cell_type": "code",
   "execution_count": null,
   "metadata": {
    "scrolled": true
   },
   "outputs": [],
   "source": [
    "df = pd.read_csv(r'C:\\Git\\Python\\flights.csv')[:10000]\n",
    "df.head()"
   ]
  },
  {
   "cell_type": "code",
   "execution_count": null,
   "metadata": {
    "scrolled": false
   },
   "outputs": [],
   "source": [
    "sns.relplot(x='arr_delay', y='carrier', data=df)"
   ]
  },
  {
   "cell_type": "code",
   "execution_count": null,
   "metadata": {},
   "outputs": [],
   "source": [
    "sns.set()\n",
    "sns.relplot(x='arr_delay', y='carrier', data=df)"
   ]
  },
  {
   "cell_type": "code",
   "execution_count": null,
   "metadata": {
    "scrolled": true
   },
   "outputs": [],
   "source": [
    "sns.relplot(x=\"arr_delay\", y=\"carrier\", hue='distance', data=df)"
   ]
  },
  {
   "cell_type": "code",
   "execution_count": null,
   "metadata": {},
   "outputs": [],
   "source": [
    "sns.relplot(x=\"arr_delay\", y=\"carrier\", hue='distance', size='dep_delay', data=df)"
   ]
  },
  {
   "cell_type": "code",
   "execution_count": null,
   "metadata": {
    "scrolled": true
   },
   "outputs": [],
   "source": [
    "airports_df = df[\n",
    "        (df['origin'] == 'JFK')\n",
    "        | (df['origin'] == 'LGA')\n",
    "        | (df['origin'] == 'EWR')\n",
    "       ]\n",
    "sns.catplot(x='origin', y='sched_dep_time', data=airports_df)"
   ]
  },
  {
   "cell_type": "markdown",
   "metadata": {},
   "source": [
    "\n",
    "### [Catplot docs](https://seaborn.pydata.org/generated/seaborn.catplot.html#seaborn.catplot)###"
   ]
  },
  {
   "cell_type": "code",
   "execution_count": null,
   "metadata": {},
   "outputs": [],
   "source": [
    "sns.catplot(x='origin', y='sched_dep_time', kind='violin', data=airports_df)"
   ]
  },
  {
   "cell_type": "code",
   "execution_count": null,
   "metadata": {},
   "outputs": [],
   "source": [
    "hour_delay = df[df['arr_delay'] > 60]\n",
    "sns.jointplot(x=\"sched_dep_time\", y=\"arr_delay\", data=hour_delay)"
   ]
  },
  {
   "cell_type": "markdown",
   "metadata": {},
   "source": [
    "### [Jointplot docs](https://seaborn.pydata.org/generated/seaborn.jointplot.html?highlight=jointplot#seaborn.jointplot)###"
   ]
  },
  {
   "cell_type": "code",
   "execution_count": null,
   "metadata": {},
   "outputs": [],
   "source": [
    "sns.jointplot(x=\"sched_dep_time\", y=\"arr_delay\", data=hour_delay, kind='kde')"
   ]
  },
  {
   "cell_type": "code",
   "execution_count": null,
   "metadata": {},
   "outputs": [],
   "source": [
    "g = sns.FacetGrid(airports_df, col='origin')\n",
    "g.map(plt.scatter, 'sched_dep_time', 'arr_delay')"
   ]
  },
  {
   "cell_type": "code",
   "execution_count": null,
   "metadata": {},
   "outputs": [],
   "source": [
    "carriers_and_origins = df[\n",
    "    (\n",
    "        (df['origin'] == 'JFK')\n",
    "        | (df['origin'] == 'LGA')\n",
    "        | (df['origin'] == 'EWR')\n",
    "    ) & (\n",
    "        (df['carrier'] == 'DL' )\n",
    "        |(df['carrier'] == 'AA' )\n",
    "        |(df['carrier'] == 'UA' )\n",
    "    )\n",
    "       ]\n",
    "g = sns.FacetGrid(carriers_and_origins, col='origin', row='carrier')\n",
    "g.map(plt.scatter, 'sched_dep_time', 'arr_delay')"
   ]
  },
  {
   "cell_type": "code",
   "execution_count": null,
   "metadata": {},
   "outputs": [],
   "source": [
    "sns.pairplot(carriers_and_origins)"
   ]
  },
  {
   "cell_type": "code",
   "execution_count": null,
   "metadata": {},
   "outputs": [],
   "source": [
    "sns.pairplot(carriers_and_origins, vars=['dep_delay', 'origin', 'sched_dep_time', 'carrier'])"
   ]
  },
  {
   "cell_type": "markdown",
   "metadata": {},
   "source": [
    "### [Documentation on Aesthetics](https://seaborn.pydata.org/tutorial/aesthetics.html) ###"
   ]
  }
 ],
 "metadata": {
  "kernelspec": {
   "display_name": "venv",
   "language": "python",
   "name": "python3"
  },
  "language_info": {
   "codemirror_mode": {
    "name": "ipython",
    "version": 3
   },
   "file_extension": ".py",
   "mimetype": "text/x-python",
   "name": "python",
   "nbconvert_exporter": "python",
   "pygments_lexer": "ipython3",
   "version": "3.8.10"
  },
  "vscode": {
   "interpreter": {
    "hash": "af52f70af4a5f7ea24e30c74788d231f40a2af175975cdeb9d21b496d67cc770"
   }
  }
 },
 "nbformat": 4,
 "nbformat_minor": 2
}
